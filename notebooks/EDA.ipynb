{
 "cells": [
  {
   "cell_type": "markdown",
   "id": "589a9008-e2d3-4db6-a039-a93b8daaf561",
   "metadata": {},
   "source": [
    "# Exploratory Data Analysis for Steamit\n",
    "\n",
    "### Importing Necessary Libraries"
   ]
  },
  {
   "cell_type": "code",
   "execution_count": 22,
   "id": "e91b00d1-44eb-4dd2-8772-6b1f8b2f2681",
   "metadata": {},
   "outputs": [
    {
     "name": "stdout",
     "output_type": "stream",
     "text": [
      "Tables in the database: [('game_details',), ('game_reviews',), ('sqlite_sequence',)]\n"
     ]
    }
   ],
   "source": [
    "import sqlite3\n",
    "import matplotlib.pyplot as plt\n",
    "import seaborn as sns\n",
    "import pandas as pd\n",
    "import numpy as np\n",
    "from transformers import BertTokenizer, BertModel\n",
    "import torch\n",
    "from sklearn.decomposition import PCA\n",
    "from sklearn.decomposition import LatentDirichletAllocation\n",
    "from sklearn.feature_extraction.text import CountVectorizer\n",
    "\n",
    "\n",
    "\n",
    "\n",
    "# Step 6: Update the recommendation function to use the combined feature matrix\n",
    "def recommend_games_combined(user_input, combined_feature_matrix, games_df):\n",
    "    user_embedding = get_embedding(user_input)\n",
    "    similarities = cosine_similarity(user_embedding, combined_feature_matrix)\n",
    "    top_n = 5\n",
    "    recommendations = similarities[0].argsort()[-top_n:][::-1]\n",
    "    return recommendations\n",
    "\n",
    "# Step 7: Use this function in your Streamlit app\n",
    "\n",
    "\n",
    "\n",
    "# Connect to the database\n",
    "conn = sqlite3.connect('steam_games.db')\n",
    "\n",
    "# Create a cursor object\n",
    "cursor = conn.cursor()\n",
    "\n",
    "# List all tables in the database\n",
    "cursor.execute(\"SELECT name FROM sqlite_master WHERE type='table';\")\n",
    "tables = cursor.fetchall()\n",
    "\n",
    "# Close the connection\n",
    "conn.close()\n",
    "\n",
    "# Print the list of tables\n",
    "print(\"Tables in the database:\", tables)\n"
   ]
  },
  {
   "cell_type": "code",
   "execution_count": 23,
   "id": "a3ff5207-0dcf-4005-9e6b-0392710aa0c3",
   "metadata": {},
   "outputs": [
    {
     "data": {
      "text/html": [
       "<div>\n",
       "<style scoped>\n",
       "    .dataframe tbody tr th:only-of-type {\n",
       "        vertical-align: middle;\n",
       "    }\n",
       "\n",
       "    .dataframe tbody tr th {\n",
       "        vertical-align: top;\n",
       "    }\n",
       "\n",
       "    .dataframe thead th {\n",
       "        text-align: right;\n",
       "    }\n",
       "</style>\n",
       "<table border=\"1\" class=\"dataframe\">\n",
       "  <thead>\n",
       "    <tr style=\"text-align: right;\">\n",
       "      <th></th>\n",
       "      <th>appid</th>\n",
       "      <th>name</th>\n",
       "      <th>description</th>\n",
       "      <th>price</th>\n",
       "      <th>release_date</th>\n",
       "      <th>developer</th>\n",
       "      <th>publisher</th>\n",
       "      <th>tags</th>\n",
       "    </tr>\n",
       "  </thead>\n",
       "  <tbody>\n",
       "    <tr>\n",
       "      <th>0</th>\n",
       "      <td>1396670</td>\n",
       "      <td>Fantasy Grounds - Pathfinder RPG - Wrath of th...</td>\n",
       "      <td>Pathfinder RPG - Wrath of the Righteous AP 1: ...</td>\n",
       "      <td>₹ 569</td>\n",
       "      <td>29 Sep, 2020</td>\n",
       "      <td>SmiteWorks USA, LLC</td>\n",
       "      <td></td>\n",
       "      <td>Indie, RPG, Strategy</td>\n",
       "    </tr>\n",
       "    <tr>\n",
       "      <th>1</th>\n",
       "      <td>1396680</td>\n",
       "      <td>Fantasy Grounds - Pathfinder RPG - Wrath of th...</td>\n",
       "      <td>Pathfinder RPG - Wrath of the Righteous AP 2: ...</td>\n",
       "      <td>₹ 569</td>\n",
       "      <td>20 Apr, 2021</td>\n",
       "      <td>SmiteWorks USA, LLC</td>\n",
       "      <td></td>\n",
       "      <td>Indie, RPG, Strategy</td>\n",
       "    </tr>\n",
       "    <tr>\n",
       "      <th>2</th>\n",
       "      <td>1396690</td>\n",
       "      <td>Fantasy Grounds - Pathfinder RPG - Wrath of th...</td>\n",
       "      <td>Pathfinder RPG - Wrath of the Righteous AP 3: ...</td>\n",
       "      <td>₹ 569</td>\n",
       "      <td>11 May, 2021</td>\n",
       "      <td>SmiteWorks USA, LLC</td>\n",
       "      <td></td>\n",
       "      <td>Indie, RPG, Strategy</td>\n",
       "    </tr>\n",
       "    <tr>\n",
       "      <th>3</th>\n",
       "      <td>1396700</td>\n",
       "      <td>Fantasy Grounds - Pathfinder RPG - Wrath of th...</td>\n",
       "      <td>Pathfinder RPG - Wrath of the Righteous AP 4: ...</td>\n",
       "      <td>₹ 569</td>\n",
       "      <td>28 Sep, 2021</td>\n",
       "      <td>SmiteWorks USA, LLC</td>\n",
       "      <td></td>\n",
       "      <td>Indie, RPG, Strategy</td>\n",
       "    </tr>\n",
       "    <tr>\n",
       "      <th>4</th>\n",
       "      <td>1396710</td>\n",
       "      <td>Fantasy Grounds - Pathfinder RPG - Wrath of th...</td>\n",
       "      <td>Pathfinder RPG - Wrath of the Righteous AP 5: ...</td>\n",
       "      <td>₹ 569</td>\n",
       "      <td>21 Dec, 2021</td>\n",
       "      <td>SmiteWorks USA, LLC</td>\n",
       "      <td></td>\n",
       "      <td>Indie, RPG, Strategy</td>\n",
       "    </tr>\n",
       "  </tbody>\n",
       "</table>\n",
       "</div>"
      ],
      "text/plain": [
       "     appid                                               name  \\\n",
       "0  1396670  Fantasy Grounds - Pathfinder RPG - Wrath of th...   \n",
       "1  1396680  Fantasy Grounds - Pathfinder RPG - Wrath of th...   \n",
       "2  1396690  Fantasy Grounds - Pathfinder RPG - Wrath of th...   \n",
       "3  1396700  Fantasy Grounds - Pathfinder RPG - Wrath of th...   \n",
       "4  1396710  Fantasy Grounds - Pathfinder RPG - Wrath of th...   \n",
       "\n",
       "                                         description  price  release_date  \\\n",
       "0  Pathfinder RPG - Wrath of the Righteous AP 1: ...  ₹ 569  29 Sep, 2020   \n",
       "1  Pathfinder RPG - Wrath of the Righteous AP 2: ...  ₹ 569  20 Apr, 2021   \n",
       "2  Pathfinder RPG - Wrath of the Righteous AP 3: ...  ₹ 569  11 May, 2021   \n",
       "3  Pathfinder RPG - Wrath of the Righteous AP 4: ...  ₹ 569  28 Sep, 2021   \n",
       "4  Pathfinder RPG - Wrath of the Righteous AP 5: ...  ₹ 569  21 Dec, 2021   \n",
       "\n",
       "             developer publisher                  tags  \n",
       "0  SmiteWorks USA, LLC            Indie, RPG, Strategy  \n",
       "1  SmiteWorks USA, LLC            Indie, RPG, Strategy  \n",
       "2  SmiteWorks USA, LLC            Indie, RPG, Strategy  \n",
       "3  SmiteWorks USA, LLC            Indie, RPG, Strategy  \n",
       "4  SmiteWorks USA, LLC            Indie, RPG, Strategy  "
      ]
     },
     "execution_count": 23,
     "metadata": {},
     "output_type": "execute_result"
    }
   ],
   "source": [
    "# Correct table name based on your database structure\n",
    "game_table = 'game_details'  # Replace with the actual table name if different\n",
    "review_table = 'game_reviews'  # Replace with the actual table name if different\n",
    "\n",
    "# Reconnect to the database\n",
    "conn = sqlite3.connect('steam_games.db')\n",
    "\n",
    "# Load the data into pandas DataFrames\n",
    "games_df = pd.read_sql_query(f\"SELECT * FROM {game_table}\", conn)\n",
    "reviews_df = pd.read_sql_query(f\"SELECT * FROM {review_table}\", conn)\n",
    "\n",
    "# Close the connection\n",
    "conn.close()\n",
    "\n",
    "# Display the first few rows of the dataframes\n",
    "games_df.head()\n",
    "\n"
   ]
  },
  {
   "cell_type": "code",
   "execution_count": 24,
   "id": "77910c27-bc0d-42ad-affc-cbce79d52d9f",
   "metadata": {},
   "outputs": [
    {
     "name": "stdout",
     "output_type": "stream",
     "text": [
      "     appid                                               name  \\\n",
      "0  1396670  Fantasy Grounds - Pathfinder RPG - Wrath of th...   \n",
      "1  1396680  Fantasy Grounds - Pathfinder RPG - Wrath of th...   \n",
      "3  1396700  Fantasy Grounds - Pathfinder RPG - Wrath of th...   \n",
      "4  1396710  Fantasy Grounds - Pathfinder RPG - Wrath of th...   \n",
      "5  1396720  Fantasy Grounds - Pathfinder RPG - Wrath of th...   \n",
      "\n",
      "                                         description  price  release_date  \\\n",
      "0  Pathfinder RPG - Wrath of the Righteous AP 1: ...  ₹ 569  29 Sep, 2020   \n",
      "1  Pathfinder RPG - Wrath of the Righteous AP 2: ...  ₹ 569  20 Apr, 2021   \n",
      "3  Pathfinder RPG - Wrath of the Righteous AP 4: ...  ₹ 569  28 Sep, 2021   \n",
      "4  Pathfinder RPG - Wrath of the Righteous AP 5: ...  ₹ 569  21 Dec, 2021   \n",
      "5  Pathfinder RPG - Wrath of the Righteous AP 6: ...  ₹ 569  11 Jan, 2022   \n",
      "\n",
      "             developer publisher                  tags  \n",
      "0  SmiteWorks USA, LLC            Indie, RPG, Strategy  \n",
      "1  SmiteWorks USA, LLC            Indie, RPG, Strategy  \n",
      "3  SmiteWorks USA, LLC            Indie, RPG, Strategy  \n",
      "4  SmiteWorks USA, LLC            Indie, RPG, Strategy  \n",
      "5  SmiteWorks USA, LLC            Indie, RPG, Strategy   (11548, 8)\n"
     ]
    }
   ],
   "source": [
    "# Remove DLCs, Playtests, and Demos from games_df\n",
    "filtered_games_df = games_df[~games_df['name'].str.contains('soundtrack|OST|demo|DLC|playtest|resource pack', case=False, na=False)]\n",
    "filtered_games_df.to_csv('filtered_games_df.csv', index=False)\n",
    "print(filtered_games_df.head(), filtered_games_df.shape)"
   ]
  },
  {
   "cell_type": "code",
   "execution_count": 25,
   "id": "0cf57a38-1d72-46df-875f-9f13b961cb10",
   "metadata": {},
   "outputs": [
    {
     "name": "stdout",
     "output_type": "stream",
     "text": [
      "Filtered reviews_df shape: (51804, 8)\n"
     ]
    }
   ],
   "source": [
    "# Filter reviews based on the filtered games_df appid\n",
    "filtered_reviews_df = reviews_df[reviews_df['appid'].isin(filtered_games_df['appid'])]\n",
    "print(\"Filtered reviews_df shape:\", filtered_reviews_df.shape)"
   ]
  },
  {
   "cell_type": "code",
   "execution_count": 26,
   "id": "6ac312a1-520b-4f1b-9d90-c629faa3b728",
   "metadata": {},
   "outputs": [
    {
     "name": "stderr",
     "output_type": "stream",
     "text": [
      "C:\\Users\\Jadoo\\Documents\\CSProjects\\steam_recomendation_system\\Steamlit\\venv\\Lib\\site-packages\\transformers\\tokenization_utils_base.py:1601: FutureWarning: `clean_up_tokenization_spaces` was not set. It will be set to `True` by default. This behavior will be depracted in transformers v4.45, and will be then set to `False` by default. For more details check this issue: https://github.com/huggingface/transformers/issues/31884\n",
      "  warnings.warn(\n",
      "A parameter name that contains `beta` will be renamed internally to `bias`. Please use a different name to suppress this warning.\n",
      "A parameter name that contains `gamma` will be renamed internally to `weight`. Please use a different name to suppress this warning.\n",
      "A parameter name that contains `beta` will be renamed internally to `bias`. Please use a different name to suppress this warning.\n",
      "A parameter name that contains `gamma` will be renamed internally to `weight`. Please use a different name to suppress this warning.\n",
      "A parameter name that contains `beta` will be renamed internally to `bias`. Please use a different name to suppress this warning.\n",
      "A parameter name that contains `gamma` will be renamed internally to `weight`. Please use a different name to suppress this warning.\n",
      "A parameter name that contains `beta` will be renamed internally to `bias`. Please use a different name to suppress this warning.\n",
      "A parameter name that contains `gamma` will be renamed internally to `weight`. Please use a different name to suppress this warning.\n",
      "A parameter name that contains `beta` will be renamed internally to `bias`. Please use a different name to suppress this warning.\n",
      "A parameter name that contains `gamma` will be renamed internally to `weight`. Please use a different name to suppress this warning.\n",
      "A parameter name that contains `beta` will be renamed internally to `bias`. Please use a different name to suppress this warning.\n",
      "A parameter name that contains `gamma` will be renamed internally to `weight`. Please use a different name to suppress this warning.\n",
      "A parameter name that contains `beta` will be renamed internally to `bias`. Please use a different name to suppress this warning.\n",
      "A parameter name that contains `gamma` will be renamed internally to `weight`. Please use a different name to suppress this warning.\n",
      "A parameter name that contains `beta` will be renamed internally to `bias`. Please use a different name to suppress this warning.\n",
      "A parameter name that contains `gamma` will be renamed internally to `weight`. Please use a different name to suppress this warning.\n",
      "A parameter name that contains `beta` will be renamed internally to `bias`. Please use a different name to suppress this warning.\n",
      "A parameter name that contains `gamma` will be renamed internally to `weight`. Please use a different name to suppress this warning.\n",
      "A parameter name that contains `beta` will be renamed internally to `bias`. Please use a different name to suppress this warning.\n",
      "A parameter name that contains `gamma` will be renamed internally to `weight`. Please use a different name to suppress this warning.\n",
      "A parameter name that contains `beta` will be renamed internally to `bias`. Please use a different name to suppress this warning.\n",
      "A parameter name that contains `gamma` will be renamed internally to `weight`. Please use a different name to suppress this warning.\n",
      "A parameter name that contains `beta` will be renamed internally to `bias`. Please use a different name to suppress this warning.\n",
      "A parameter name that contains `gamma` will be renamed internally to `weight`. Please use a different name to suppress this warning.\n",
      "A parameter name that contains `beta` will be renamed internally to `bias`. Please use a different name to suppress this warning.\n",
      "A parameter name that contains `gamma` will be renamed internally to `weight`. Please use a different name to suppress this warning.\n",
      "A parameter name that contains `beta` will be renamed internally to `bias`. Please use a different name to suppress this warning.\n",
      "A parameter name that contains `gamma` will be renamed internally to `weight`. Please use a different name to suppress this warning.\n",
      "A parameter name that contains `beta` will be renamed internally to `bias`. Please use a different name to suppress this warning.\n",
      "A parameter name that contains `gamma` will be renamed internally to `weight`. Please use a different name to suppress this warning.\n",
      "A parameter name that contains `beta` will be renamed internally to `bias`. Please use a different name to suppress this warning.\n",
      "A parameter name that contains `gamma` will be renamed internally to `weight`. Please use a different name to suppress this warning.\n",
      "A parameter name that contains `beta` will be renamed internally to `bias`. Please use a different name to suppress this warning.\n",
      "A parameter name that contains `gamma` will be renamed internally to `weight`. Please use a different name to suppress this warning.\n",
      "A parameter name that contains `beta` will be renamed internally to `bias`. Please use a different name to suppress this warning.\n",
      "A parameter name that contains `gamma` will be renamed internally to `weight`. Please use a different name to suppress this warning.\n",
      "A parameter name that contains `beta` will be renamed internally to `bias`. Please use a different name to suppress this warning.\n",
      "A parameter name that contains `gamma` will be renamed internally to `weight`. Please use a different name to suppress this warning.\n",
      "A parameter name that contains `beta` will be renamed internally to `bias`. Please use a different name to suppress this warning.\n",
      "A parameter name that contains `gamma` will be renamed internally to `weight`. Please use a different name to suppress this warning.\n",
      "A parameter name that contains `beta` will be renamed internally to `bias`. Please use a different name to suppress this warning.\n",
      "A parameter name that contains `gamma` will be renamed internally to `weight`. Please use a different name to suppress this warning.\n",
      "A parameter name that contains `beta` will be renamed internally to `bias`. Please use a different name to suppress this warning.\n",
      "A parameter name that contains `gamma` will be renamed internally to `weight`. Please use a different name to suppress this warning.\n",
      "A parameter name that contains `beta` will be renamed internally to `bias`. Please use a different name to suppress this warning.\n",
      "A parameter name that contains `gamma` will be renamed internally to `weight`. Please use a different name to suppress this warning.\n",
      "A parameter name that contains `beta` will be renamed internally to `bias`. Please use a different name to suppress this warning.\n",
      "A parameter name that contains `gamma` will be renamed internally to `weight`. Please use a different name to suppress this warning.\n",
      "A parameter name that contains `beta` will be renamed internally to `bias`. Please use a different name to suppress this warning.\n",
      "A parameter name that contains `gamma` will be renamed internally to `weight`. Please use a different name to suppress this warning.\n",
      "A parameter name that contains `beta` will be renamed internally to `bias`. Please use a different name to suppress this warning.\n",
      "A parameter name that contains `gamma` will be renamed internally to `weight`. Please use a different name to suppress this warning.\n"
     ]
    },
    {
     "name": "stdout",
     "output_type": "stream",
     "text": [
      "Item feature matrix has been successfully saved as 'bert_item_feature_matrix.npy\n"
     ]
    }
   ],
   "source": [
    "# Load pre-trained BERT model and tokenizer\n",
    "bert_tokenizer = BertTokenizer.from_pretrained('bert-base-uncased')\n",
    "bert_model = BertModel.from_pretrained('bert-base-uncased')\n",
    "\n",
    "# Function to get text embedding\n",
    "def get_embedding(text):\n",
    "    inputs = bert_tokenizer(text, return_tensors='pt', truncation=True, padding=True, max_length=512)\n",
    "    outputs = bert_model(**inputs)\n",
    "    return outputs.last_hidden_state.mean(dim=1).cpu().detach().numpy()\n",
    "\n",
    "# Generate embeddings for all game descriptions\n",
    "embeddings = []\n",
    "for description in filtered_games_df['description']:\n",
    "    embeddings.append(get_embedding(description).flatten())\n",
    "\n",
    "# Convert to numpy array and save\n",
    "bert_item_feature_matrix = np.array(embeddings)\n",
    "np.save('bert_item_feature_matrix.npy', bert_item_feature_matrix)\n",
    "print(\"Item feature matrix has been successfully saved as 'bert_item_feature_matrix.npy\")"
   ]
  },
  {
   "cell_type": "code",
   "execution_count": 27,
   "id": "0e2c13f9-5e2c-455c-98cb-71ef498d8e88",
   "metadata": {},
   "outputs": [
    {
     "name": "stderr",
     "output_type": "stream",
     "text": [
      "C:\\Users\\Jadoo\\AppData\\Local\\Temp\\ipykernel_16772\\1065448926.py:14: SettingWithCopyWarning: \n",
      "A value is trying to be set on a copy of a slice from a DataFrame.\n",
      "Try using .loc[row_indexer,col_indexer] = value instead\n",
      "\n",
      "See the caveats in the documentation: https://pandas.pydata.org/pandas-docs/stable/user_guide/indexing.html#returning-a-view-versus-a-copy\n",
      "  filtered_reviews_df['cleaned_text'] = filtered_reviews_df['review_text'].apply(clean_text)\n",
      "C:\\Users\\Jadoo\\AppData\\Local\\Temp\\ipykernel_16772\\1065448926.py:28: SettingWithCopyWarning: \n",
      "A value is trying to be set on a copy of a slice from a DataFrame.\n",
      "Try using .loc[row_indexer,col_indexer] = value instead\n",
      "\n",
      "See the caveats in the documentation: https://pandas.pydata.org/pandas-docs/stable/user_guide/indexing.html#returning-a-view-versus-a-copy\n",
      "  filtered_reviews_df['lda_topics'] = lda_topic_matrix.tolist()\n"
     ]
    },
    {
     "name": "stdout",
     "output_type": "stream",
     "text": [
      "Combined feature matrix shape: (5889, 788)\n"
     ]
    }
   ],
   "source": [
    "# Step 1: Vectorize the reviews using CountVectorizer for LDA\n",
    "import re\n",
    "\n",
    "# Apply the clean_text function to the reviews\n",
    "def clean_text(text):\n",
    "    text = text.lower()  # Convert to lowercase\n",
    "    text = re.sub(r'\\s+', ' ', text)  # Replace multiple spaces with a single space\n",
    "    text = re.sub(r'[^\\w\\s]', '', text)  # Remove punctuation and special characters\n",
    "    text = re.sub(r'\\d+', '', text)  # Remove numbers\n",
    "    text = text.strip()  # Strip leading and trailing spaces\n",
    "    return text\n",
    "\n",
    "filtered_reviews_df = reviews_df[reviews_df['appid'].isin(filtered_games_df['appid'])]\n",
    "filtered_reviews_df['cleaned_text'] = filtered_reviews_df['review_text'].apply(clean_text)\n",
    "\n",
    "vectorizer = CountVectorizer(max_features=5000, stop_words='english')\n",
    "reviews_vectorized = vectorizer.fit_transform(filtered_reviews_df['cleaned_text'])\n",
    "\n",
    "# Step 2: Fit the LDA model (using 20 topics as an example)\n",
    "lda_model = LatentDirichletAllocation(n_components=20, random_state=42)\n",
    "lda_topic_matrix = lda_model.fit_transform(reviews_vectorized)\n",
    "\n",
    "# Step 3: Create a new DataFrame to store LDA topics and app_id\n",
    "lda_df = pd.DataFrame(lda_topic_matrix, columns=[f'topic_{i}' for i in range(lda_topic_matrix.shape[1])])\n",
    "lda_df['appid'] = filtered_reviews_df['appid'].values\n",
    "\n",
    "# Step 4: Aggregate the LDA topics per game (group by appid)\n",
    "filtered_reviews_df['lda_topics'] = lda_topic_matrix.tolist()\n",
    "lda_topic_matrix_per_game = filtered_reviews_df.groupby('appid')['lda_topics'].apply(lambda x: np.mean(x.tolist(), axis=0)).to_list()\n",
    "\n",
    "# Convert lda_topic_matrix_per_game to a 2D numpy array\n",
    "lda_topic_matrix_per_game = np.array(lda_topic_matrix_per_game)\n",
    "\n",
    "# Step 5: Filter bert_item_feature_matrix to match the LDA topic matrix appids\n",
    "matching_appids = filtered_games_df['appid'].isin(filtered_reviews_df['appid'].unique())\n",
    "filtered_games_df = filtered_games_df[matching_appids]\n",
    "bert_item_feature_matrix = bert_item_feature_matrix[matching_appids]\n",
    "\n",
    "# Step 6: Combine the matrices\n",
    "combined_feature_matrix = np.hstack((bert_item_feature_matrix, lda_topic_matrix_per_game))\n",
    "\n",
    "# Step 7: Check the combined matrix dimensions\n",
    "print(\"Combined feature matrix shape:\", combined_feature_matrix.shape)"
   ]
  },
  {
   "cell_type": "markdown",
   "id": "7b37a1b9-2e4b-4f6f-ba31-e85a3aae6ec5",
   "metadata": {},
   "source": [
    "# Test on BERT Embeddings + LDA"
   ]
  },
  {
   "cell_type": "code",
   "execution_count": 28,
   "id": "355f3f29-37e8-411d-8423-95f986e8d637",
   "metadata": {},
   "outputs": [
    {
     "data": {
      "text/plain": [
       "(5889, 788)"
      ]
     },
     "execution_count": 28,
     "metadata": {},
     "output_type": "execute_result"
    }
   ],
   "source": [
    "combined_feature_matrix.shape"
   ]
  },
  {
   "cell_type": "code",
   "execution_count": 29,
   "id": "150c3fb1-b698-4e53-bea2-36e291a20ab6",
   "metadata": {},
   "outputs": [
    {
     "name": "stdout",
     "output_type": "stream",
     "text": [
      "Adventure Minesweeper\n",
      "Drabidiboo\n",
      "DIERY HEAVEN\n",
      "Forest Keeper\n",
      "Archer Master\n"
     ]
    }
   ],
   "source": [
    "# Step 7: Define a quick recommendation function\n",
    "from sklearn.metrics.pairwise import cosine_similarity\n",
    "# Function to get user embedding including LDA topics\n",
    "def get_combined_user_embedding(user_input, bert_model, lda_model, vectorizer):\n",
    "    # Get BERT embedding\n",
    "    user_embedding = get_embedding(user_input)\n",
    "    \n",
    "    # Get LDA topic distribution for user input\n",
    "    user_input_vectorized = vectorizer.transform([user_input])\n",
    "    user_lda_topics = lda_model.transform(user_input_vectorized)\n",
    "    \n",
    "    # Combine BERT embedding and LDA topics\n",
    "    combined_user_embedding = np.hstack((user_embedding.flatten(), user_lda_topics.flatten()))\n",
    "    \n",
    "    return combined_user_embedding.reshape(1, -1)\n",
    "\n",
    "# Updated recommendation function\n",
    "def recommend_games_combined(user_input, combined_feature_matrix, games_df):\n",
    "    combined_user_embedding = get_combined_user_embedding(user_input, bert_model, lda_model, vectorizer)\n",
    "    similarities = cosine_similarity(combined_user_embedding, combined_feature_matrix)\n",
    "    top_n = 5\n",
    "    recommendations = similarities[0].argsort()[-top_n:][::-1]\n",
    "    return recommendations\n",
    "\n",
    "# Example user input\n",
    "user_input = \"I want a challenging fantasy game with history\"\n",
    "recommendations = recommend_games_combined(user_input, combined_feature_matrix, filtered_games_df)\n",
    "\n",
    "# Print the recommended games\n",
    "for idx in recommendations:\n",
    "    print(filtered_games_df.iloc[idx]['name'])"
   ]
  }
 ],
 "metadata": {
  "kernelspec": {
   "display_name": "Python 3 (ipykernel)",
   "language": "python",
   "name": "python3"
  },
  "language_info": {
   "codemirror_mode": {
    "name": "ipython",
    "version": 3
   },
   "file_extension": ".py",
   "mimetype": "text/x-python",
   "name": "python",
   "nbconvert_exporter": "python",
   "pygments_lexer": "ipython3",
   "version": "3.11.4"
  }
 },
 "nbformat": 4,
 "nbformat_minor": 5
}
